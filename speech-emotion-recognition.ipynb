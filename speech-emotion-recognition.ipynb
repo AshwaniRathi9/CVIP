{
 "cells": [
  {
   "cell_type": "code",
   "execution_count": 2,
   "metadata": {
    "_cell_guid": "b1076dfc-b9ad-4769-8c92-a6c4dae69d19",
    "_uuid": "8f2839f25d086af736a60e9eeb907d3b93b6e0e5",
    "execution": {
     "iopub.execute_input": "2023-08-11T15:59:38.530371Z",
     "iopub.status.busy": "2023-08-11T15:59:38.529813Z",
     "iopub.status.idle": "2023-08-11T15:59:38.612518Z",
     "shell.execute_reply": "2023-08-11T15:59:38.611540Z",
     "shell.execute_reply.started": "2023-08-11T15:59:38.530337Z"
    }
   },
   "outputs": [],
   "source": [
    "import numpy as np \n",
    "import pandas as pd \n",
    "import os"
   ]
  },
  {
   "cell_type": "code",
   "execution_count": 3,
   "metadata": {},
   "outputs": [],
   "source": [
    "for dirname, _, filenames in os.walk('/kaggle/input'):\n",
    "    for filename in filenames:\n",
    "        print(os.path.join(dirname, filename))"
   ]
  },
  {
   "cell_type": "code",
   "execution_count": null,
   "metadata": {
    "execution": {
     "iopub.execute_input": "2023-08-11T15:59:38.614665Z",
     "iopub.status.busy": "2023-08-11T15:59:38.614176Z",
     "iopub.status.idle": "2023-08-11T15:59:38.619447Z",
     "shell.execute_reply": "2023-08-11T15:59:38.618247Z",
     "shell.execute_reply.started": "2023-08-11T15:59:38.614639Z"
    }
   },
   "outputs": [],
   "source": [
    "import librosa\n",
    "import soundfile\n",
    "import os,glob,pickle\n",
    "import numpy as np\n",
    "from sklearn.model_selection import train_test_split\n",
    "from sklearn.neural_network import MLPClassifier\n",
    "from sklearn.metrics import accuracy_score"
   ]
  },
  {
   "cell_type": "code",
   "execution_count": 140,
   "metadata": {
    "execution": {
     "iopub.execute_input": "2023-08-11T15:59:38.621414Z",
     "iopub.status.busy": "2023-08-11T15:59:38.620899Z",
     "iopub.status.idle": "2023-08-11T15:59:38.635828Z",
     "shell.execute_reply": "2023-08-11T15:59:38.634593Z",
     "shell.execute_reply.started": "2023-08-11T15:59:38.621387Z"
    }
   },
   "outputs": [],
   "source": [
    "def extract_feature(file_name, mfcc, chroma, mel):\n",
    "    X, sample_rate = librosa.load(file_name)\n",
    "    result = np.array([])\n",
    "    if mfcc:\n",
    "        mfccs = np.mean(librosa.feature.mfcc(y=X, sr=sample_rate, n_mfcc=13), axis=1)\n",
    "        result = np.hstack((result, mfccs))\n",
    "    if chroma:\n",
    "        chroma = np.mean(librosa.feature.chroma_stft(y=X, sr=sample_rate), axis=1)\n",
    "        result = np.hstack((result, chroma))\n",
    "    if mel:\n",
    "        mel = np.mean(librosa.feature.melspectrogram(y=X, sr=sample_rate), axis=1)\n",
    "        result = np.hstack((result, mel))\n",
    "    return result"
   ]
  },
  {
   "cell_type": "code",
   "execution_count": 141,
   "metadata": {
    "execution": {
     "iopub.execute_input": "2023-08-11T15:59:38.641827Z",
     "iopub.status.busy": "2023-08-11T15:59:38.640229Z",
     "iopub.status.idle": "2023-08-11T15:59:38.651037Z",
     "shell.execute_reply": "2023-08-11T15:59:38.647435Z",
     "shell.execute_reply.started": "2023-08-11T15:59:38.641792Z"
    }
   },
   "outputs": [],
   "source": [
    "emotions={\n",
    "  '01':'neutral',\n",
    "  '02':'calm',\n",
    "  '03':'happy',\n",
    "  '04':'sad',\n",
    "  '05':'angry',\n",
    "  '06':'fearful',\n",
    "  '07':'disgust',\n",
    "  '08':'surprised'\n",
    "}\n",
    "\n",
    "observed_emotions=['calm', 'happy', 'fearful', 'disgust']"
   ]
  },
  {
   "cell_type": "code",
   "execution_count": 142,
   "metadata": {
    "execution": {
     "iopub.execute_input": "2023-08-11T15:59:38.654692Z",
     "iopub.status.busy": "2023-08-11T15:59:38.653947Z",
     "iopub.status.idle": "2023-08-11T15:59:38.666283Z",
     "shell.execute_reply": "2023-08-11T15:59:38.665209Z",
     "shell.execute_reply.started": "2023-08-11T15:59:38.654651Z"
    }
   },
   "outputs": [],
   "source": [
    "def load_data(test_size=0.2):\n",
    "    x,y=[],[]\n",
    "    for file in glob.glob(\"/kaggle/input/ravdess-emotional-speech-audio/Actor*/*\"):\n",
    "        file_name=os.path.basename(file)\n",
    "        emotion=emotions[file_name.split(\"-\")[2]]\n",
    "        if emotion not in observed_emotions:\n",
    "            continue\n",
    "        feature=extract_feature(file, mfcc=True, chroma=True, mel=True)\n",
    "        x.append(feature)\n",
    "        y.append(emotion)\n",
    "    return train_test_split(np.array(x), y, test_size=test_size, random_state=9)"
   ]
  },
  {
   "cell_type": "code",
   "execution_count": 143,
   "metadata": {
    "execution": {
     "iopub.execute_input": "2023-08-11T15:59:38.668700Z",
     "iopub.status.busy": "2023-08-11T15:59:38.668045Z",
     "iopub.status.idle": "2023-08-11T16:00:05.329560Z",
     "shell.execute_reply": "2023-08-11T16:00:05.328786Z",
     "shell.execute_reply.started": "2023-08-11T15:59:38.668668Z"
    }
   },
   "outputs": [],
   "source": [
    "x_train,x_test,y_train,y_test=load_data(test_size=0.25)"
   ]
  },
  {
   "cell_type": "code",
   "execution_count": 144,
   "metadata": {
    "execution": {
     "iopub.execute_input": "2023-08-11T16:00:05.336799Z",
     "iopub.status.busy": "2023-08-11T16:00:05.334181Z",
     "iopub.status.idle": "2023-08-11T16:00:05.345964Z",
     "shell.execute_reply": "2023-08-11T16:00:05.345229Z",
     "shell.execute_reply.started": "2023-08-11T16:00:05.336758Z"
    }
   },
   "outputs": [
    {
     "data": {
      "text/plain": [
       "array([[-6.79428040e+02,  7.15642624e+01, -1.25025034e+00, ...,\n",
       "         8.96288293e-06,  3.88968374e-06,  2.31587521e-07],\n",
       "       [-7.42097412e+02,  5.40084419e+01,  1.90167465e+01, ...,\n",
       "         1.17418485e-05,  2.54501492e-06,  1.63714375e-07],\n",
       "       [-5.99767761e+02,  3.90904655e+01, -1.20699177e+01, ...,\n",
       "         3.52484116e-04,  2.07809018e-04,  9.77575201e-06],\n",
       "       ...,\n",
       "       [-5.16340942e+02,  2.82089615e+01, -1.60243416e+01, ...,\n",
       "         1.25860868e-04,  7.58955066e-05,  8.02706745e-06],\n",
       "       [-7.14336975e+02,  4.53424454e+01, -3.30322075e+00, ...,\n",
       "         9.63522598e-06,  5.22228902e-06,  3.50979036e-07],\n",
       "       [-6.11058960e+02,  6.97433624e+01, -1.14987011e+01, ...,\n",
       "         4.15070936e-05,  3.99114688e-05,  2.02275328e-06]])"
      ]
     },
     "execution_count": 144,
     "metadata": {},
     "output_type": "execute_result"
    }
   ],
   "source": [
    "x_train"
   ]
  },
  {
   "cell_type": "code",
   "execution_count": 145,
   "metadata": {
    "execution": {
     "iopub.execute_input": "2023-08-11T16:00:05.351549Z",
     "iopub.status.busy": "2023-08-11T16:00:05.349213Z",
     "iopub.status.idle": "2023-08-11T16:00:05.359144Z",
     "shell.execute_reply": "2023-08-11T16:00:05.358437Z",
     "shell.execute_reply.started": "2023-08-11T16:00:05.351513Z"
    }
   },
   "outputs": [
    {
     "name": "stdout",
     "output_type": "stream",
     "text": [
      "(576, 192)\n"
     ]
    }
   ],
   "source": [
    "print((x_train.shape[0], x_test.shape[0]))"
   ]
  },
  {
   "cell_type": "code",
   "execution_count": 146,
   "metadata": {
    "execution": {
     "iopub.execute_input": "2023-08-11T16:00:05.364562Z",
     "iopub.status.busy": "2023-08-11T16:00:05.362654Z",
     "iopub.status.idle": "2023-08-11T16:00:05.372018Z",
     "shell.execute_reply": "2023-08-11T16:00:05.371323Z",
     "shell.execute_reply.started": "2023-08-11T16:00:05.364529Z"
    }
   },
   "outputs": [
    {
     "name": "stdout",
     "output_type": "stream",
     "text": [
      "Features extracted: 153\n"
     ]
    }
   ],
   "source": [
    "print(f'Features extracted: {x_train.shape[1]}')"
   ]
  },
  {
   "cell_type": "code",
   "execution_count": 147,
   "metadata": {
    "execution": {
     "iopub.execute_input": "2023-08-11T16:00:05.377613Z",
     "iopub.status.busy": "2023-08-11T16:00:05.375772Z",
     "iopub.status.idle": "2023-08-11T16:00:05.383962Z",
     "shell.execute_reply": "2023-08-11T16:00:05.383097Z",
     "shell.execute_reply.started": "2023-08-11T16:00:05.377566Z"
    }
   },
   "outputs": [],
   "source": [
    "model=MLPClassifier(alpha=0.01, batch_size=256, epsilon=1e-08, hidden_layer_sizes=(300,), learning_rate='adaptive', max_iter=500)"
   ]
  },
  {
   "cell_type": "code",
   "execution_count": 148,
   "metadata": {
    "execution": {
     "iopub.execute_input": "2023-08-11T16:00:05.390357Z",
     "iopub.status.busy": "2023-08-11T16:00:05.388198Z",
     "iopub.status.idle": "2023-08-11T16:00:06.135708Z",
     "shell.execute_reply": "2023-08-11T16:00:06.134987Z",
     "shell.execute_reply.started": "2023-08-11T16:00:05.390322Z"
    }
   },
   "outputs": [
    {
     "data": {
      "text/html": [
       "<style>#sk-container-id-10 {color: black;background-color: white;}#sk-container-id-10 pre{padding: 0;}#sk-container-id-10 div.sk-toggleable {background-color: white;}#sk-container-id-10 label.sk-toggleable__label {cursor: pointer;display: block;width: 100%;margin-bottom: 0;padding: 0.3em;box-sizing: border-box;text-align: center;}#sk-container-id-10 label.sk-toggleable__label-arrow:before {content: \"▸\";float: left;margin-right: 0.25em;color: #696969;}#sk-container-id-10 label.sk-toggleable__label-arrow:hover:before {color: black;}#sk-container-id-10 div.sk-estimator:hover label.sk-toggleable__label-arrow:before {color: black;}#sk-container-id-10 div.sk-toggleable__content {max-height: 0;max-width: 0;overflow: hidden;text-align: left;background-color: #f0f8ff;}#sk-container-id-10 div.sk-toggleable__content pre {margin: 0.2em;color: black;border-radius: 0.25em;background-color: #f0f8ff;}#sk-container-id-10 input.sk-toggleable__control:checked~div.sk-toggleable__content {max-height: 200px;max-width: 100%;overflow: auto;}#sk-container-id-10 input.sk-toggleable__control:checked~label.sk-toggleable__label-arrow:before {content: \"▾\";}#sk-container-id-10 div.sk-estimator input.sk-toggleable__control:checked~label.sk-toggleable__label {background-color: #d4ebff;}#sk-container-id-10 div.sk-label input.sk-toggleable__control:checked~label.sk-toggleable__label {background-color: #d4ebff;}#sk-container-id-10 input.sk-hidden--visually {border: 0;clip: rect(1px 1px 1px 1px);clip: rect(1px, 1px, 1px, 1px);height: 1px;margin: -1px;overflow: hidden;padding: 0;position: absolute;width: 1px;}#sk-container-id-10 div.sk-estimator {font-family: monospace;background-color: #f0f8ff;border: 1px dotted black;border-radius: 0.25em;box-sizing: border-box;margin-bottom: 0.5em;}#sk-container-id-10 div.sk-estimator:hover {background-color: #d4ebff;}#sk-container-id-10 div.sk-parallel-item::after {content: \"\";width: 100%;border-bottom: 1px solid gray;flex-grow: 1;}#sk-container-id-10 div.sk-label:hover label.sk-toggleable__label {background-color: #d4ebff;}#sk-container-id-10 div.sk-serial::before {content: \"\";position: absolute;border-left: 1px solid gray;box-sizing: border-box;top: 0;bottom: 0;left: 50%;z-index: 0;}#sk-container-id-10 div.sk-serial {display: flex;flex-direction: column;align-items: center;background-color: white;padding-right: 0.2em;padding-left: 0.2em;position: relative;}#sk-container-id-10 div.sk-item {position: relative;z-index: 1;}#sk-container-id-10 div.sk-parallel {display: flex;align-items: stretch;justify-content: center;background-color: white;position: relative;}#sk-container-id-10 div.sk-item::before, #sk-container-id-10 div.sk-parallel-item::before {content: \"\";position: absolute;border-left: 1px solid gray;box-sizing: border-box;top: 0;bottom: 0;left: 50%;z-index: -1;}#sk-container-id-10 div.sk-parallel-item {display: flex;flex-direction: column;z-index: 1;position: relative;background-color: white;}#sk-container-id-10 div.sk-parallel-item:first-child::after {align-self: flex-end;width: 50%;}#sk-container-id-10 div.sk-parallel-item:last-child::after {align-self: flex-start;width: 50%;}#sk-container-id-10 div.sk-parallel-item:only-child::after {width: 0;}#sk-container-id-10 div.sk-dashed-wrapped {border: 1px dashed gray;margin: 0 0.4em 0.5em 0.4em;box-sizing: border-box;padding-bottom: 0.4em;background-color: white;}#sk-container-id-10 div.sk-label label {font-family: monospace;font-weight: bold;display: inline-block;line-height: 1.2em;}#sk-container-id-10 div.sk-label-container {text-align: center;}#sk-container-id-10 div.sk-container {/* jupyter's `normalize.less` sets `[hidden] { display: none; }` but bootstrap.min.css set `[hidden] { display: none !important; }` so we also need the `!important` here to be able to override the default hidden behavior on the sphinx rendered scikit-learn.org. See: https://github.com/scikit-learn/scikit-learn/issues/21755 */display: inline-block !important;position: relative;}#sk-container-id-10 div.sk-text-repr-fallback {display: none;}</style><div id=\"sk-container-id-10\" class=\"sk-top-container\"><div class=\"sk-text-repr-fallback\"><pre>MLPClassifier(alpha=0.01, batch_size=256, hidden_layer_sizes=(300,),\n",
       "              learning_rate=&#x27;adaptive&#x27;, max_iter=500)</pre><b>In a Jupyter environment, please rerun this cell to show the HTML representation or trust the notebook. <br />On GitHub, the HTML representation is unable to render, please try loading this page with nbviewer.org.</b></div><div class=\"sk-container\" hidden><div class=\"sk-item\"><div class=\"sk-estimator sk-toggleable\"><input class=\"sk-toggleable__control sk-hidden--visually\" id=\"sk-estimator-id-10\" type=\"checkbox\" checked><label for=\"sk-estimator-id-10\" class=\"sk-toggleable__label sk-toggleable__label-arrow\">MLPClassifier</label><div class=\"sk-toggleable__content\"><pre>MLPClassifier(alpha=0.01, batch_size=256, hidden_layer_sizes=(300,),\n",
       "              learning_rate=&#x27;adaptive&#x27;, max_iter=500)</pre></div></div></div></div></div>"
      ],
      "text/plain": [
       "MLPClassifier(alpha=0.01, batch_size=256, hidden_layer_sizes=(300,),\n",
       "              learning_rate='adaptive', max_iter=500)"
      ]
     },
     "execution_count": 148,
     "metadata": {},
     "output_type": "execute_result"
    }
   ],
   "source": [
    "model.fit(x_train,y_train)"
   ]
  },
  {
   "cell_type": "code",
   "execution_count": 149,
   "metadata": {
    "execution": {
     "iopub.execute_input": "2023-08-11T16:00:06.140537Z",
     "iopub.status.busy": "2023-08-11T16:00:06.138878Z",
     "iopub.status.idle": "2023-08-11T16:00:06.146421Z",
     "shell.execute_reply": "2023-08-11T16:00:06.145682Z",
     "shell.execute_reply.started": "2023-08-11T16:00:06.140508Z"
    }
   },
   "outputs": [],
   "source": [
    "y_pred=model.predict(x_test)"
   ]
  },
  {
   "cell_type": "code",
   "execution_count": 150,
   "metadata": {
    "execution": {
     "iopub.execute_input": "2023-08-11T16:00:06.153384Z",
     "iopub.status.busy": "2023-08-11T16:00:06.151488Z",
     "iopub.status.idle": "2023-08-11T16:00:06.161977Z",
     "shell.execute_reply": "2023-08-11T16:00:06.161289Z",
     "shell.execute_reply.started": "2023-08-11T16:00:06.153351Z"
    }
   },
   "outputs": [
    {
     "name": "stdout",
     "output_type": "stream",
     "text": [
      "Accuracy: 58.85%\n"
     ]
    }
   ],
   "source": [
    "#Calculate the accuracy of our model\n",
    "accuracy=accuracy_score(y_true=y_test, y_pred=y_pred)\n",
    "\n",
    "#Print the accuracy\n",
    "print(\"Accuracy: {:.2f}%\".format(accuracy*100))\n",
    "\n",
    "from sklearn.metrics import accuracy_score, f1_score"
   ]
  },
  {
   "cell_type": "code",
   "execution_count": 151,
   "metadata": {
    "execution": {
     "iopub.execute_input": "2023-08-11T16:00:06.167858Z",
     "iopub.status.busy": "2023-08-11T16:00:06.165547Z",
     "iopub.status.idle": "2023-08-11T16:00:06.173216Z",
     "shell.execute_reply": "2023-08-11T16:00:06.172417Z",
     "shell.execute_reply.started": "2023-08-11T16:00:06.167821Z"
    }
   },
   "outputs": [],
   "source": [
    "from sklearn.ensemble import RandomForestClassifier"
   ]
  },
  {
   "cell_type": "code",
   "execution_count": 152,
   "metadata": {
    "execution": {
     "iopub.execute_input": "2023-08-11T16:00:06.179036Z",
     "iopub.status.busy": "2023-08-11T16:00:06.177003Z",
     "iopub.status.idle": "2023-08-11T16:00:33.289198Z",
     "shell.execute_reply": "2023-08-11T16:00:33.288493Z",
     "shell.execute_reply.started": "2023-08-11T16:00:06.179005Z"
    }
   },
   "outputs": [
    {
     "name": "stdout",
     "output_type": "stream",
     "text": [
      "Accuracy: 0.6666666666666666\n"
     ]
    }
   ],
   "source": [
    "# Split the data into training and test sets\n",
    "X_train, X_test, y_train, y_test = load_data(test_size=0.25)\n",
    "\n",
    "# Train the random forest classifier on the selected features\n",
    "rf_selected = RandomForestClassifier()\n",
    "rf_selected.fit(X_train, y_train)\n",
    "\n",
    "# Predict the labels for the test set\n",
    "y_pred = rf_selected.predict(X_test)\n",
    "\n",
    "# Calculate the accuracy of the model\n",
    "accuracy = accuracy_score(y_test, y_pred)\n",
    "print(\"Accuracy:\", accuracy)"
   ]
  },
  {
   "cell_type": "code",
   "execution_count": 153,
   "metadata": {
    "execution": {
     "iopub.execute_input": "2023-08-11T16:00:33.290760Z",
     "iopub.status.busy": "2023-08-11T16:00:33.290232Z",
     "iopub.status.idle": "2023-08-11T16:00:33.323936Z",
     "shell.execute_reply": "2023-08-11T16:00:33.323248Z",
     "shell.execute_reply.started": "2023-08-11T16:00:33.290727Z"
    }
   },
   "outputs": [
    {
     "name": "stdout",
     "output_type": "stream",
     "text": [
      "Accuracy of Bagging classifier: 0.5416666666666666\n"
     ]
    }
   ],
   "source": [
    "from sklearn.ensemble import BaggingClassifier\n",
    "from sklearn.neighbors import KNeighborsClassifier\n",
    "bagging = BaggingClassifier(KNeighborsClassifier(),\n",
    "                            max_samples=0.5, max_features=0.5)\n",
    "bagging.fit(X_train, y_train)\n",
    "Y_pred=bagging.predict(X_test)\n",
    "print(\"Accuracy of Bagging classifier:\",accuracy_score(y_test,Y_pred))"
   ]
  },
  {
   "cell_type": "code",
   "execution_count": 154,
   "metadata": {
    "execution": {
     "iopub.execute_input": "2023-08-11T16:00:33.325570Z",
     "iopub.status.busy": "2023-08-11T16:00:33.325019Z",
     "iopub.status.idle": "2023-08-11T16:00:33.416980Z",
     "shell.execute_reply": "2023-08-11T16:00:33.416047Z",
     "shell.execute_reply.started": "2023-08-11T16:00:33.325531Z"
    }
   },
   "outputs": [
    {
     "name": "stdout",
     "output_type": "stream",
     "text": [
      "Accuracy of Decision tree: 0.5260416666666666\n"
     ]
    }
   ],
   "source": [
    "from sklearn.tree import DecisionTreeClassifier\n",
    "classfier=DecisionTreeClassifier(criterion=\"entropy\",random_state=42)\n",
    "classfier.fit(X_train,y_train)\n",
    "Y_pred=classfier.predict(X_test)\n",
    "print(\"Accuracy of Decision tree:\",accuracy_score(y_test,Y_pred))"
   ]
  },
  {
   "cell_type": "code",
   "execution_count": 155,
   "metadata": {
    "execution": {
     "iopub.execute_input": "2023-08-11T16:00:33.418632Z",
     "iopub.status.busy": "2023-08-11T16:00:33.418316Z",
     "iopub.status.idle": "2023-08-11T16:00:33.479230Z",
     "shell.execute_reply": "2023-08-11T16:00:33.478325Z",
     "shell.execute_reply.started": "2023-08-11T16:00:33.418601Z"
    }
   },
   "outputs": [
    {
     "name": "stdout",
     "output_type": "stream",
     "text": [
      "Accuracy of Logistic Regression: 0.546875\n"
     ]
    },
    {
     "name": "stderr",
     "output_type": "stream",
     "text": [
      "/opt/conda/lib/python3.10/site-packages/sklearn/linear_model/_logistic.py:458: ConvergenceWarning: lbfgs failed to converge (status=1):\n",
      "STOP: TOTAL NO. of ITERATIONS REACHED LIMIT.\n",
      "\n",
      "Increase the number of iterations (max_iter) or scale the data as shown in:\n",
      "    https://scikit-learn.org/stable/modules/preprocessing.html\n",
      "Please also refer to the documentation for alternative solver options:\n",
      "    https://scikit-learn.org/stable/modules/linear_model.html#logistic-regression\n",
      "  n_iter_i = _check_optimize_result(\n"
     ]
    }
   ],
   "source": [
    "from sklearn.linear_model import LogisticRegression\n",
    "re=LogisticRegression()\n",
    "history=re.fit(X_train,y_train)\n",
    "Y_pred=re.predict(X_test)\n",
    "print(\"Accuracy of Logistic Regression:\",accuracy_score(y_test,Y_pred))"
   ]
  },
  {
   "cell_type": "code",
   "execution_count": 156,
   "metadata": {
    "execution": {
     "iopub.execute_input": "2023-08-11T16:00:33.480982Z",
     "iopub.status.busy": "2023-08-11T16:00:33.480482Z",
     "iopub.status.idle": "2023-08-11T16:00:34.661704Z",
     "shell.execute_reply": "2023-08-11T16:00:34.660821Z",
     "shell.execute_reply.started": "2023-08-11T16:00:33.480952Z"
    }
   },
   "outputs": [
    {
     "name": "stdout",
     "output_type": "stream",
     "text": [
      "Accuracy of AdaBoost classifier: 0.5\n"
     ]
    }
   ],
   "source": [
    "\n",
    "from sklearn.ensemble import AdaBoostClassifier\n",
    "ada = AdaBoostClassifier(n_estimators=100)\n",
    "ada.fit(X_train,y_train)\n",
    "yp=ada.predict(X_test)\n",
    "print(\"Accuracy of AdaBoost classifier:\",accuracy_score(y_test,yp))"
   ]
  },
  {
   "cell_type": "code",
   "execution_count": 157,
   "metadata": {
    "execution": {
     "iopub.execute_input": "2023-08-11T16:00:34.663445Z",
     "iopub.status.busy": "2023-08-11T16:00:34.662933Z",
     "iopub.status.idle": "2023-08-11T16:00:34.673717Z",
     "shell.execute_reply": "2023-08-11T16:00:34.672378Z",
     "shell.execute_reply.started": "2023-08-11T16:00:34.663415Z"
    }
   },
   "outputs": [
    {
     "name": "stdout",
     "output_type": "stream",
     "text": [
      "Accuracy of GaussianNB: 0.4739583333333333\n"
     ]
    }
   ],
   "source": [
    "from sklearn.naive_bayes import GaussianNB\n",
    "gnb = GaussianNB()\n",
    "gnb.fit(X_train,y_train)\n",
    "gb=gnb.predict(X_test)\n",
    "print(\"Accuracy of GaussianNB:\",accuracy_score(y_test,gb))"
   ]
  },
  {
   "cell_type": "code",
   "execution_count": 158,
   "metadata": {
    "execution": {
     "iopub.execute_input": "2023-08-11T16:00:34.675585Z",
     "iopub.status.busy": "2023-08-11T16:00:34.675173Z",
     "iopub.status.idle": "2023-08-11T16:00:34.739092Z",
     "shell.execute_reply": "2023-08-11T16:00:34.737697Z",
     "shell.execute_reply.started": "2023-08-11T16:00:34.675558Z"
    }
   },
   "outputs": [
    {
     "name": "stdout",
     "output_type": "stream",
     "text": [
      "Accuracy of support vector classifier: 0.59375\n"
     ]
    }
   ],
   "source": [
    "from sklearn.pipeline import make_pipeline\n",
    "from sklearn.svm import SVC\n",
    "SV = make_pipeline( SVC(gamma='auto'))\n",
    "SV.fit(X_train,y_train)\n",
    "SVC=SV.predict(X_test)\n",
    "\n",
    "print(\"Accuracy of support vector classifier:\",accuracy_score(y_test,SVC))"
   ]
  },
  {
   "cell_type": "code",
   "execution_count": 159,
   "metadata": {
    "execution": {
     "iopub.execute_input": "2023-08-11T16:00:34.740617Z",
     "iopub.status.busy": "2023-08-11T16:00:34.740384Z",
     "iopub.status.idle": "2023-08-11T16:00:34.749704Z",
     "shell.execute_reply": "2023-08-11T16:00:34.748646Z",
     "shell.execute_reply.started": "2023-08-11T16:00:34.740596Z"
    }
   },
   "outputs": [
    {
     "data": {
      "text/plain": [
       "array([0.77083333, 0.61538462, 0.69306931, 0.57831325])"
      ]
     },
     "execution_count": 159,
     "metadata": {},
     "output_type": "execute_result"
    }
   ],
   "source": [
    "f1_score(y_test, y_pred,average=None)"
   ]
  },
  {
   "cell_type": "markdown",
   "metadata": {},
   "source": [
    "## Thank You"
   ]
  }
 ],
 "metadata": {
  "kernelspec": {
   "display_name": "Python 3 (ipykernel)",
   "language": "python",
   "name": "python3"
  },
  "language_info": {
   "codemirror_mode": {
    "name": "ipython",
    "version": 3
   },
   "file_extension": ".py",
   "mimetype": "text/x-python",
   "name": "python",
   "nbconvert_exporter": "python",
   "pygments_lexer": "ipython3",
   "version": "3.11.3"
  }
 },
 "nbformat": 4,
 "nbformat_minor": 4
}
